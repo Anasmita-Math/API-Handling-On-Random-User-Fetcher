{
 "cells": [
  {
   "cell_type": "markdown",
   "id": "20e00264-b9d6-48be-931a-83abf44ba982",
   "metadata": {},
   "source": [
    "# API Handling On Get a Random User"
   ]
  },
  {
   "cell_type": "code",
   "execution_count": 2,
   "id": "898aef10-32d2-438e-bbbd-5bc7a2125220",
   "metadata": {},
   "outputs": [],
   "source": [
    "import requests"
   ]
  },
  {
   "cell_type": "markdown",
   "id": "adef4d57-0b42-4978-98aa-76932ae8c34f",
   "metadata": {},
   "source": [
    "***Random User Fetching***"
   ]
  },
  {
   "cell_type": "code",
   "execution_count": 4,
   "id": "6fd5b064-356b-4642-8597-0f00a3cbd27b",
   "metadata": {},
   "outputs": [],
   "source": [
    "def fetch_random_user():\n",
    "    url=\"https://api.freeapi.app/api/v1/public/randomusers/user/random\"\n",
    "    response=requests.get(url)\n",
    "    data=response.json()\n",
    "    if data[\"success\"] and \"data\" in data:\n",
    "        user_data=data[\"data\"]\n",
    "        username=user_data[\"login\"][\"username\"]\n",
    "        country=user_data[\"location\"][\"country\"]\n",
    "        email = user_data[\"email\"]      \n",
    "        return username,country,email\n",
    "    else:\n",
    "        raise Exception(\"Failed to fetch user data\")\n"
   ]
  },
  {
   "cell_type": "markdown",
   "id": "b1a5adf0-7bae-4001-9492-ce72da25eff0",
   "metadata": {},
   "source": [
    "***Required Value Fetching from the API***"
   ]
  },
  {
   "cell_type": "code",
   "execution_count": 6,
   "id": "65b20d90-4034-4e2e-aa22-6085bc788c42",
   "metadata": {},
   "outputs": [],
   "source": [
    "def main():\n",
    "    try:\n",
    "        username,country,email=fetch_random_user()\n",
    "        print(f\"Username:{username} \\nCountry:{country} \\nEmail:{email}\")\n",
    "    except Exception as e:\n",
    "        print(str(e))"
   ]
  },
  {
   "cell_type": "markdown",
   "id": "333bf76b-47bd-4e14-9af1-4632a277163e",
   "metadata": {},
   "source": [
    "***Main Function***"
   ]
  },
  {
   "cell_type": "code",
   "execution_count": 8,
   "id": "e63b7cf1-5d63-481e-b0a2-51dd868f423a",
   "metadata": {},
   "outputs": [
    {
     "name": "stdout",
     "output_type": "stream",
     "text": [
      "Username:bluemouse566 \n",
      "Country:Norway \n",
      "Email:emmy.sorum@example.com\n"
     ]
    }
   ],
   "source": [
    "if __name__==\"__main__\":\n",
    "    main()"
   ]
  }
 ],
 "metadata": {
  "kernelspec": {
   "display_name": "Python 3 (ipykernel)",
   "language": "python",
   "name": "python3"
  },
  "language_info": {
   "codemirror_mode": {
    "name": "ipython",
    "version": 3
   },
   "file_extension": ".py",
   "mimetype": "text/x-python",
   "name": "python",
   "nbconvert_exporter": "python",
   "pygments_lexer": "ipython3",
   "version": "3.12.4"
  }
 },
 "nbformat": 4,
 "nbformat_minor": 5
}
